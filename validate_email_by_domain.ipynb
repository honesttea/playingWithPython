{
 "cells": [
  {
   "cell_type": "code",
   "execution_count": 44,
   "id": "eae298a8",
   "metadata": {},
   "outputs": [],
   "source": [
    "import pandas as pd\n",
    "import psycopg2\n",
    "import getpass\n",
    "import dns.resolver\n",
    "import csv"
   ]
  },
  {
   "cell_type": "code",
   "execution_count": 6,
   "id": "9b8032ef",
   "metadata": {},
   "outputs": [],
   "source": [
    "def connect():\n",
    "    host = getpass.getpass(\"Host:\")\n",
    "    user = getpass.getpass(\"User:\")\n",
    "    senha = getpass.getpass(\"Senha:\")\n",
    "    conn = psycopg2.connect(database='postgres',host=host,user=user,password=senha)\n",
    "    return conn"
   ]
  },
  {
   "cell_type": "code",
   "execution_count": null,
   "id": "4d16739c",
   "metadata": {
    "scrolled": false
   },
   "outputs": [],
   "source": [
    "conexao = connect()\n",
    "cursor = conexao.cursor()\n",
    "cursor.execute(\"SELECT DISTINCT domain FROM emails ORDER BY domain \")\n",
    "result = cursor.fetchall()\n",
    "conexao.close()"
   ]
  },
  {
   "cell_type": "code",
   "execution_count": 42,
   "id": "984dc789",
   "metadata": {},
   "outputs": [],
   "source": [
    "with open('dominios.csv', 'w', encoding='UTF8') as f:\n",
    "    writer = csv.writer(f)\n",
    "    for x in range(len(result)):\n",
    "        try:\n",
    "            cas = dns.resolver.resolve(result[x][0], 'MX')\n",
    "            row=[result[x][0],\"valido\"]\n",
    "            writer.writerow(row)\n",
    "        except:\n",
    "            row=[result[x][0],\"invalido\"]\n",
    "            writer.writerow(row)"
   ]
  }
 ],
 "metadata": {
  "kernelspec": {
   "display_name": "Python 3",
   "language": "python",
   "name": "python3"
  },
  "language_info": {
   "codemirror_mode": {
    "name": "ipython",
    "version": 3
   },
   "file_extension": ".py",
   "mimetype": "text/x-python",
   "name": "python",
   "nbconvert_exporter": "python",
   "pygments_lexer": "ipython3",
   "version": "3.8.8"
  }
 },
 "nbformat": 4,
 "nbformat_minor": 5
}
